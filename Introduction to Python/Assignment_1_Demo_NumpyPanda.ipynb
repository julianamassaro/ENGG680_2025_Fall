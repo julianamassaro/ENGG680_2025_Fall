{
  "nbformat": 4,
  "nbformat_minor": 0,
  "metadata": {
    "colab": {
      "provenance": [],
      "mount_file_id": "1-g_GW_TNpvzkNiCuCmsRHsNM1JiEgR-i",
      "authorship_tag": "ABX9TyNbJx+HyqJh6PBdqAAIcBxk"
    },
    "kernelspec": {
      "name": "python3",
      "display_name": "Python 3"
    },
    "language_info": {
      "name": "python"
    }
  },
  "cells": [
    {
      "cell_type": "code",
      "execution_count": null,
      "metadata": {
        "id": "f0B8tGWkDz96"
      },
      "outputs": [],
      "source": [
        "!ls"
      ]
    },
    {
      "cell_type": "code",
      "source": [
        "%cd drive/MyDrive/"
      ],
      "metadata": {
        "id": "nJJeI5HsERxz"
      },
      "execution_count": null,
      "outputs": []
    },
    {
      "cell_type": "code",
      "source": [
        "%mkdir ENGG680_2025Fall"
      ],
      "metadata": {
        "id": "c7niCyWKEWMT"
      },
      "execution_count": null,
      "outputs": []
    },
    {
      "cell_type": "code",
      "source": [
        "%cd ENGG680_2025Fall/"
      ],
      "metadata": {
        "id": "9RHsXqvjEdGO"
      },
      "execution_count": null,
      "outputs": []
    },
    {
      "cell_type": "code",
      "source": [
        "# illustration about value assignment\n",
        "a=1\n",
        "b=2\n",
        "a=b\n",
        "print(a)\n",
        "print(b)"
      ],
      "metadata": {
        "id": "SFv65bkjE308"
      },
      "execution_count": null,
      "outputs": []
    },
    {
      "cell_type": "code",
      "source": [
        "b=10\n",
        "print(a)"
      ],
      "metadata": {
        "id": "rYzQH5GxE7h7"
      },
      "execution_count": null,
      "outputs": []
    },
    {
      "cell_type": "markdown",
      "source": [
        "# **PANDAS**"
      ],
      "metadata": {
        "id": "dojko_NTGBQ3"
      }
    },
    {
      "cell_type": "code",
      "source": [
        "import pandas as pd\n",
        "import numpy as np"
      ],
      "metadata": {
        "id": "MWb_GfJrGFFT"
      },
      "execution_count": 2,
      "outputs": []
    },
    {
      "cell_type": "code",
      "source": [
        "s=pd.Series([1,3,np.nan,7,9])\n",
        "print(s)"
      ],
      "metadata": {
        "colab": {
          "base_uri": "https://localhost:8080/"
        },
        "id": "D5dJ_zvjGONP",
        "outputId": "bd697092-4a3a-4664-8cb9-8ea118706883"
      },
      "execution_count": 3,
      "outputs": [
        {
          "output_type": "stream",
          "name": "stdout",
          "text": [
            "0    1.0\n",
            "1    3.0\n",
            "2    NaN\n",
            "3    7.0\n",
            "4    9.0\n",
            "dtype: float64\n"
          ]
        }
      ]
    },
    {
      "cell_type": "code",
      "source": [
        "s=pd.Series([1,3,5,7,'text'])\n",
        "print(s)"
      ],
      "metadata": {
        "id": "fNKG5UUhGbEp",
        "outputId": "223873ba-c17f-41b3-bec2-432d89960aa4",
        "colab": {
          "base_uri": "https://localhost:8080/"
        }
      },
      "execution_count": 4,
      "outputs": [
        {
          "output_type": "stream",
          "name": "stdout",
          "text": [
            "0       1\n",
            "1       3\n",
            "2       5\n",
            "3       7\n",
            "4    text\n",
            "dtype: object\n"
          ]
        }
      ]
    },
    {
      "cell_type": "code",
      "source": [
        "# Define custom row labels\n",
        "row_labels = ['Row1', 'Row2', 'Row3', 'Row4']\n",
        "\n",
        "df2 = pd.DataFrame(\n",
        "    {\n",
        "        \"A\": 1.0,\n",
        "        \"B\": pd.Timestamp(\"20130102\"),\n",
        "        \"C\": pd.Series(1, index=row_labels, dtype=\"float32\"), #row_labels\n",
        "        \"D\": np.array([3] * 4, dtype=\"int32\"),\n",
        "        \"E\": pd.Categorical([\"test\", \"train\", \"test\", \"train\"]),\n",
        "        \"F\": \"foo\",\n",
        "    },\n",
        "    index=row_labels  # Setting the custom index for the entire DataFrame\n",
        "\n",
        ")\n",
        "print(df2)\n",
        "\n",
        "print(df2.dtypes)"
      ],
      "metadata": {
        "colab": {
          "base_uri": "https://localhost:8080/"
        },
        "id": "WGMqizE8jR3D",
        "outputId": "5a69c24a-539d-408d-9275-078ff0f180a8"
      },
      "execution_count": 5,
      "outputs": [
        {
          "output_type": "stream",
          "name": "stdout",
          "text": [
            "        A          B    C  D      E    F\n",
            "Row1  1.0 2013-01-02  1.0  3   test  foo\n",
            "Row2  1.0 2013-01-02  1.0  3  train  foo\n",
            "Row3  1.0 2013-01-02  1.0  3   test  foo\n",
            "Row4  1.0 2013-01-02  1.0  3  train  foo\n",
            "A          float64\n",
            "B    datetime64[s]\n",
            "C          float32\n",
            "D            int32\n",
            "E         category\n",
            "F           object\n",
            "dtype: object\n"
          ]
        }
      ]
    },
    {
      "cell_type": "code",
      "source": [
        "# Create a Python list that holds the names of the four columns.\n",
        "my_column_names = ['Eleanor', 'Chidi', 'Tahani', 'Jason']\n",
        "\n",
        "my_row_names = ['a', 'b', 'c', 'd', 'e', 'f', 'g', 'h', 'i', 'j']\n",
        "\n",
        "# Create a 3x4 numpy array, each cell populated with a random integer.\n",
        "my_data = np.random.randint(low=0, high=101, size=(10, 4))\n",
        "\n",
        "# Create a DataFrame.\n",
        "df = pd.DataFrame(data=my_data, columns=my_column_names,index=my_row_names)\n",
        "\n",
        "# Print the entire DataFrame\n",
        "print(df)\n",
        "\n",
        "df['GPA']=df[:].mean(axis=1) #'0' is |, '1' is --\n",
        "# df['GPA']=df[['Eleanor','Chidi']].mean(axis=1)\n",
        "# df.loc['x']=df[:].mean(axis=0)\n",
        "print(df)\n",
        "\n"
      ],
      "metadata": {
        "colab": {
          "base_uri": "https://localhost:8080/"
        },
        "id": "hWAugfdalB8l",
        "outputId": "8416efdf-c5f0-4ba4-ae1f-20bab919a045"
      },
      "execution_count": 6,
      "outputs": [
        {
          "output_type": "stream",
          "name": "stdout",
          "text": [
            "   Eleanor  Chidi  Tahani  Jason\n",
            "a       77     63      21     63\n",
            "b       39     11      65     48\n",
            "c       16     89      35     16\n",
            "d       59     60      32      6\n",
            "e       54      0      26      3\n",
            "f       37     31      77     78\n",
            "g       20     20      93     80\n",
            "h       66     30      20     98\n",
            "i       20     66      21     22\n",
            "j       58      6      98     90\n",
            "   Eleanor  Chidi  Tahani  Jason    GPA\n",
            "a       77     63      21     63  56.00\n",
            "b       39     11      65     48  40.75\n",
            "c       16     89      35     16  39.00\n",
            "d       59     60      32      6  39.25\n",
            "e       54      0      26      3  20.75\n",
            "f       37     31      77     78  55.75\n",
            "g       20     20      93     80  53.25\n",
            "h       66     30      20     98  53.50\n",
            "i       20     66      21     22  32.25\n",
            "j       58      6      98     90  63.00\n"
          ]
        }
      ]
    },
    {
      "cell_type": "code",
      "source": [
        "# Create a column named Janet whose contents are the sum\n",
        "# of two other columns.\n",
        "df['Janet'] = df['Tahani'] + df['Jason']\n",
        "\n",
        "# Print the enhanced DataFrame\n",
        "print(df)"
      ],
      "metadata": {
        "colab": {
          "base_uri": "https://localhost:8080/"
        },
        "id": "FMtG98sxmNfa",
        "outputId": "97cba442-2657-4c3d-9424-405b652d525a"
      },
      "execution_count": 7,
      "outputs": [
        {
          "output_type": "stream",
          "name": "stdout",
          "text": [
            "   Eleanor  Chidi  Tahani  Jason    GPA  Janet\n",
            "a       77     63      21     63  56.00     84\n",
            "b       39     11      65     48  40.75    113\n",
            "c       16     89      35     16  39.00     51\n",
            "d       59     60      32      6  39.25     38\n",
            "e       54      0      26      3  20.75     29\n",
            "f       37     31      77     78  55.75    155\n",
            "g       20     20      93     80  53.25    173\n",
            "h       66     30      20     98  53.50    118\n",
            "i       20     66      21     22  32.25     43\n",
            "j       58      6      98     90  63.00    188\n"
          ]
        }
      ]
    },
    {
      "cell_type": "code",
      "source": [
        "# how to visit certain element?\n",
        "df.loc['a','Jason'] #location\n",
        "df.iloc[0,2] #integer location\n",
        "\n",
        "# you can tell the difference (visit the column, row)\n",
        "df.loc['a'].iloc[0] # df.loc['a'] visit the certain row\n",
        "df['Jason'].iloc[0] # df['Jason'] visit the certain col\n",
        "df[1:3] # visit 1 to 2 rows.df[1:3] it also can visit row, but should be number, df['a'] is wrong\n",
        "\n",
        "\n",
        "# df.loc['a',0] # Think about this, why is it wrong?"
      ],
      "metadata": {
        "colab": {
          "base_uri": "https://localhost:8080/",
          "height": 111
        },
        "collapsed": true,
        "id": "lWb0cXJIlwT6",
        "outputId": "783da575-2e32-40db-9f9c-13b79ae133a7"
      },
      "execution_count": 35,
      "outputs": [
        {
          "output_type": "execute_result",
          "data": {
            "text/plain": [
              "   Eleanor  Chidi  Tahani  Jason    GPA  Janet\n",
              "b       39     11      65     48  40.75    113\n",
              "c       16     89      35     16  39.00     51"
            ],
            "text/html": [
              "\n",
              "  <div id=\"df-5f2ad2a9-b1fa-4861-9941-3129a22efd1d\" class=\"colab-df-container\">\n",
              "    <div>\n",
              "<style scoped>\n",
              "    .dataframe tbody tr th:only-of-type {\n",
              "        vertical-align: middle;\n",
              "    }\n",
              "\n",
              "    .dataframe tbody tr th {\n",
              "        vertical-align: top;\n",
              "    }\n",
              "\n",
              "    .dataframe thead th {\n",
              "        text-align: right;\n",
              "    }\n",
              "</style>\n",
              "<table border=\"1\" class=\"dataframe\">\n",
              "  <thead>\n",
              "    <tr style=\"text-align: right;\">\n",
              "      <th></th>\n",
              "      <th>Eleanor</th>\n",
              "      <th>Chidi</th>\n",
              "      <th>Tahani</th>\n",
              "      <th>Jason</th>\n",
              "      <th>GPA</th>\n",
              "      <th>Janet</th>\n",
              "    </tr>\n",
              "  </thead>\n",
              "  <tbody>\n",
              "    <tr>\n",
              "      <th>b</th>\n",
              "      <td>39</td>\n",
              "      <td>11</td>\n",
              "      <td>65</td>\n",
              "      <td>48</td>\n",
              "      <td>40.75</td>\n",
              "      <td>113</td>\n",
              "    </tr>\n",
              "    <tr>\n",
              "      <th>c</th>\n",
              "      <td>16</td>\n",
              "      <td>89</td>\n",
              "      <td>35</td>\n",
              "      <td>16</td>\n",
              "      <td>39.00</td>\n",
              "      <td>51</td>\n",
              "    </tr>\n",
              "  </tbody>\n",
              "</table>\n",
              "</div>\n",
              "    <div class=\"colab-df-buttons\">\n",
              "\n",
              "  <div class=\"colab-df-container\">\n",
              "    <button class=\"colab-df-convert\" onclick=\"convertToInteractive('df-5f2ad2a9-b1fa-4861-9941-3129a22efd1d')\"\n",
              "            title=\"Convert this dataframe to an interactive table.\"\n",
              "            style=\"display:none;\">\n",
              "\n",
              "  <svg xmlns=\"http://www.w3.org/2000/svg\" height=\"24px\" viewBox=\"0 -960 960 960\">\n",
              "    <path d=\"M120-120v-720h720v720H120Zm60-500h600v-160H180v160Zm220 220h160v-160H400v160Zm0 220h160v-160H400v160ZM180-400h160v-160H180v160Zm440 0h160v-160H620v160ZM180-180h160v-160H180v160Zm440 0h160v-160H620v160Z\"/>\n",
              "  </svg>\n",
              "    </button>\n",
              "\n",
              "  <style>\n",
              "    .colab-df-container {\n",
              "      display:flex;\n",
              "      gap: 12px;\n",
              "    }\n",
              "\n",
              "    .colab-df-convert {\n",
              "      background-color: #E8F0FE;\n",
              "      border: none;\n",
              "      border-radius: 50%;\n",
              "      cursor: pointer;\n",
              "      display: none;\n",
              "      fill: #1967D2;\n",
              "      height: 32px;\n",
              "      padding: 0 0 0 0;\n",
              "      width: 32px;\n",
              "    }\n",
              "\n",
              "    .colab-df-convert:hover {\n",
              "      background-color: #E2EBFA;\n",
              "      box-shadow: 0px 1px 2px rgba(60, 64, 67, 0.3), 0px 1px 3px 1px rgba(60, 64, 67, 0.15);\n",
              "      fill: #174EA6;\n",
              "    }\n",
              "\n",
              "    .colab-df-buttons div {\n",
              "      margin-bottom: 4px;\n",
              "    }\n",
              "\n",
              "    [theme=dark] .colab-df-convert {\n",
              "      background-color: #3B4455;\n",
              "      fill: #D2E3FC;\n",
              "    }\n",
              "\n",
              "    [theme=dark] .colab-df-convert:hover {\n",
              "      background-color: #434B5C;\n",
              "      box-shadow: 0px 1px 3px 1px rgba(0, 0, 0, 0.15);\n",
              "      filter: drop-shadow(0px 1px 2px rgba(0, 0, 0, 0.3));\n",
              "      fill: #FFFFFF;\n",
              "    }\n",
              "  </style>\n",
              "\n",
              "    <script>\n",
              "      const buttonEl =\n",
              "        document.querySelector('#df-5f2ad2a9-b1fa-4861-9941-3129a22efd1d button.colab-df-convert');\n",
              "      buttonEl.style.display =\n",
              "        google.colab.kernel.accessAllowed ? 'block' : 'none';\n",
              "\n",
              "      async function convertToInteractive(key) {\n",
              "        const element = document.querySelector('#df-5f2ad2a9-b1fa-4861-9941-3129a22efd1d');\n",
              "        const dataTable =\n",
              "          await google.colab.kernel.invokeFunction('convertToInteractive',\n",
              "                                                    [key], {});\n",
              "        if (!dataTable) return;\n",
              "\n",
              "        const docLinkHtml = 'Like what you see? Visit the ' +\n",
              "          '<a target=\"_blank\" href=https://colab.research.google.com/notebooks/data_table.ipynb>data table notebook</a>'\n",
              "          + ' to learn more about interactive tables.';\n",
              "        element.innerHTML = '';\n",
              "        dataTable['output_type'] = 'display_data';\n",
              "        await google.colab.output.renderOutput(dataTable, element);\n",
              "        const docLink = document.createElement('div');\n",
              "        docLink.innerHTML = docLinkHtml;\n",
              "        element.appendChild(docLink);\n",
              "      }\n",
              "    </script>\n",
              "  </div>\n",
              "\n",
              "\n",
              "    <div id=\"df-711a7605-f916-454d-8a5b-c5132814b17b\">\n",
              "      <button class=\"colab-df-quickchart\" onclick=\"quickchart('df-711a7605-f916-454d-8a5b-c5132814b17b')\"\n",
              "                title=\"Suggest charts\"\n",
              "                style=\"display:none;\">\n",
              "\n",
              "<svg xmlns=\"http://www.w3.org/2000/svg\" height=\"24px\"viewBox=\"0 0 24 24\"\n",
              "     width=\"24px\">\n",
              "    <g>\n",
              "        <path d=\"M19 3H5c-1.1 0-2 .9-2 2v14c0 1.1.9 2 2 2h14c1.1 0 2-.9 2-2V5c0-1.1-.9-2-2-2zM9 17H7v-7h2v7zm4 0h-2V7h2v10zm4 0h-2v-4h2v4z\"/>\n",
              "    </g>\n",
              "</svg>\n",
              "      </button>\n",
              "\n",
              "<style>\n",
              "  .colab-df-quickchart {\n",
              "      --bg-color: #E8F0FE;\n",
              "      --fill-color: #1967D2;\n",
              "      --hover-bg-color: #E2EBFA;\n",
              "      --hover-fill-color: #174EA6;\n",
              "      --disabled-fill-color: #AAA;\n",
              "      --disabled-bg-color: #DDD;\n",
              "  }\n",
              "\n",
              "  [theme=dark] .colab-df-quickchart {\n",
              "      --bg-color: #3B4455;\n",
              "      --fill-color: #D2E3FC;\n",
              "      --hover-bg-color: #434B5C;\n",
              "      --hover-fill-color: #FFFFFF;\n",
              "      --disabled-bg-color: #3B4455;\n",
              "      --disabled-fill-color: #666;\n",
              "  }\n",
              "\n",
              "  .colab-df-quickchart {\n",
              "    background-color: var(--bg-color);\n",
              "    border: none;\n",
              "    border-radius: 50%;\n",
              "    cursor: pointer;\n",
              "    display: none;\n",
              "    fill: var(--fill-color);\n",
              "    height: 32px;\n",
              "    padding: 0;\n",
              "    width: 32px;\n",
              "  }\n",
              "\n",
              "  .colab-df-quickchart:hover {\n",
              "    background-color: var(--hover-bg-color);\n",
              "    box-shadow: 0 1px 2px rgba(60, 64, 67, 0.3), 0 1px 3px 1px rgba(60, 64, 67, 0.15);\n",
              "    fill: var(--button-hover-fill-color);\n",
              "  }\n",
              "\n",
              "  .colab-df-quickchart-complete:disabled,\n",
              "  .colab-df-quickchart-complete:disabled:hover {\n",
              "    background-color: var(--disabled-bg-color);\n",
              "    fill: var(--disabled-fill-color);\n",
              "    box-shadow: none;\n",
              "  }\n",
              "\n",
              "  .colab-df-spinner {\n",
              "    border: 2px solid var(--fill-color);\n",
              "    border-color: transparent;\n",
              "    border-bottom-color: var(--fill-color);\n",
              "    animation:\n",
              "      spin 1s steps(1) infinite;\n",
              "  }\n",
              "\n",
              "  @keyframes spin {\n",
              "    0% {\n",
              "      border-color: transparent;\n",
              "      border-bottom-color: var(--fill-color);\n",
              "      border-left-color: var(--fill-color);\n",
              "    }\n",
              "    20% {\n",
              "      border-color: transparent;\n",
              "      border-left-color: var(--fill-color);\n",
              "      border-top-color: var(--fill-color);\n",
              "    }\n",
              "    30% {\n",
              "      border-color: transparent;\n",
              "      border-left-color: var(--fill-color);\n",
              "      border-top-color: var(--fill-color);\n",
              "      border-right-color: var(--fill-color);\n",
              "    }\n",
              "    40% {\n",
              "      border-color: transparent;\n",
              "      border-right-color: var(--fill-color);\n",
              "      border-top-color: var(--fill-color);\n",
              "    }\n",
              "    60% {\n",
              "      border-color: transparent;\n",
              "      border-right-color: var(--fill-color);\n",
              "    }\n",
              "    80% {\n",
              "      border-color: transparent;\n",
              "      border-right-color: var(--fill-color);\n",
              "      border-bottom-color: var(--fill-color);\n",
              "    }\n",
              "    90% {\n",
              "      border-color: transparent;\n",
              "      border-bottom-color: var(--fill-color);\n",
              "    }\n",
              "  }\n",
              "</style>\n",
              "\n",
              "      <script>\n",
              "        async function quickchart(key) {\n",
              "          const quickchartButtonEl =\n",
              "            document.querySelector('#' + key + ' button');\n",
              "          quickchartButtonEl.disabled = true;  // To prevent multiple clicks.\n",
              "          quickchartButtonEl.classList.add('colab-df-spinner');\n",
              "          try {\n",
              "            const charts = await google.colab.kernel.invokeFunction(\n",
              "                'suggestCharts', [key], {});\n",
              "          } catch (error) {\n",
              "            console.error('Error during call to suggestCharts:', error);\n",
              "          }\n",
              "          quickchartButtonEl.classList.remove('colab-df-spinner');\n",
              "          quickchartButtonEl.classList.add('colab-df-quickchart-complete');\n",
              "        }\n",
              "        (() => {\n",
              "          let quickchartButtonEl =\n",
              "            document.querySelector('#df-711a7605-f916-454d-8a5b-c5132814b17b button');\n",
              "          quickchartButtonEl.style.display =\n",
              "            google.colab.kernel.accessAllowed ? 'block' : 'none';\n",
              "        })();\n",
              "      </script>\n",
              "    </div>\n",
              "\n",
              "    </div>\n",
              "  </div>\n"
            ],
            "application/vnd.google.colaboratory.intrinsic+json": {
              "type": "dataframe",
              "summary": "{\n  \"name\": \"# df\",\n  \"rows\": 2,\n  \"fields\": [\n    {\n      \"column\": \"Eleanor\",\n      \"properties\": {\n        \"dtype\": \"number\",\n        \"std\": 16,\n        \"min\": 16,\n        \"max\": 39,\n        \"num_unique_values\": 2,\n        \"samples\": [\n          16,\n          39\n        ],\n        \"semantic_type\": \"\",\n        \"description\": \"\"\n      }\n    },\n    {\n      \"column\": \"Chidi\",\n      \"properties\": {\n        \"dtype\": \"number\",\n        \"std\": 55,\n        \"min\": 11,\n        \"max\": 89,\n        \"num_unique_values\": 2,\n        \"samples\": [\n          89,\n          11\n        ],\n        \"semantic_type\": \"\",\n        \"description\": \"\"\n      }\n    },\n    {\n      \"column\": \"Tahani\",\n      \"properties\": {\n        \"dtype\": \"number\",\n        \"std\": 21,\n        \"min\": 35,\n        \"max\": 65,\n        \"num_unique_values\": 2,\n        \"samples\": [\n          35,\n          65\n        ],\n        \"semantic_type\": \"\",\n        \"description\": \"\"\n      }\n    },\n    {\n      \"column\": \"Jason\",\n      \"properties\": {\n        \"dtype\": \"number\",\n        \"std\": 22,\n        \"min\": 16,\n        \"max\": 48,\n        \"num_unique_values\": 2,\n        \"samples\": [\n          16,\n          48\n        ],\n        \"semantic_type\": \"\",\n        \"description\": \"\"\n      }\n    },\n    {\n      \"column\": \"GPA\",\n      \"properties\": {\n        \"dtype\": \"number\",\n        \"std\": 1.2374368670764582,\n        \"min\": 39.0,\n        \"max\": 40.75,\n        \"num_unique_values\": 2,\n        \"samples\": [\n          39.0,\n          40.75\n        ],\n        \"semantic_type\": \"\",\n        \"description\": \"\"\n      }\n    },\n    {\n      \"column\": \"Janet\",\n      \"properties\": {\n        \"dtype\": \"number\",\n        \"std\": 43,\n        \"min\": 51,\n        \"max\": 113,\n        \"num_unique_values\": 2,\n        \"samples\": [\n          51,\n          113\n        ],\n        \"semantic_type\": \"\",\n        \"description\": \"\"\n      }\n    }\n  ]\n}"
            }
          },
          "metadata": {},
          "execution_count": 35
        }
      ]
    },
    {
      "cell_type": "code",
      "source": [
        "df.iloc[0:2,2:4]"
      ],
      "metadata": {
        "collapsed": true,
        "id": "BGqaBXwcmU89"
      },
      "execution_count": null,
      "outputs": []
    },
    {
      "cell_type": "code",
      "source": [
        "df.transform(lambda x: x * 1.2) # Think about this, will this change the df varible?\n",
        "print(df)"
      ],
      "metadata": {
        "id": "1kAaXL3dpSf8"
      },
      "execution_count": null,
      "outputs": []
    },
    {
      "cell_type": "code",
      "source": [
        "# df=df.cumsum() #understand what is cumsum\n",
        "print(df.cumsum())# will this change the df varible?\n",
        "df.plot()"
      ],
      "metadata": {
        "id": "ZaZmQLYYpc6n"
      },
      "execution_count": null,
      "outputs": []
    },
    {
      "cell_type": "code",
      "source": [
        "df.to_csv('myDataFrame.csv')"
      ],
      "metadata": {
        "id": "r5pleD0QyyWi"
      },
      "execution_count": null,
      "outputs": []
    },
    {
      "cell_type": "code",
      "source": [
        "file= pd.read_csv('myDataFrame.csv')\n",
        "print(file)"
      ],
      "metadata": {
        "id": "0nn95GLrzMgz"
      },
      "execution_count": null,
      "outputs": []
    },
    {
      "cell_type": "code",
      "source": [
        "file2=pd.read_excel('gpsL1_pseudorange_with_rawdiffs_temperature.xlsx')\n",
        "frame1=file2.iloc[0:10,[2,5]]\n",
        "frame2=file2.iloc[0:10,0:3]\n",
        "print(frame1)\n",
        "print(frame2)\n",
        "\n",
        "merged_frame=pd.merge(frame2,frame1,on='Pseudorange_ChangingFBN')\n",
        "print(merged_frame)"
      ],
      "metadata": {
        "id": "OCcJqiHvzQzt"
      },
      "execution_count": null,
      "outputs": []
    },
    {
      "cell_type": "code",
      "source": [
        "file2.head(1) # know the file before you get the col and row you want"
      ],
      "metadata": {
        "id": "tWdiLVRSYMeS"
      },
      "execution_count": null,
      "outputs": []
    },
    {
      "cell_type": "code",
      "source": [
        "# dataframe 2 numpy\n",
        "a=file2.iloc[:,2:5].to_numpy()\n",
        "a"
      ],
      "metadata": {
        "id": "HYRY4xCv7p9F"
      },
      "execution_count": null,
      "outputs": []
    },
    {
      "cell_type": "code",
      "source": [
        "# numpy 2 dataframe\n",
        "arr = np.array([[1, 2, 3],\n",
        "        [4, 5, 6]])\n",
        "\n",
        "# convert to DataFrame\n",
        "df1 = pd.DataFrame(arr)   # default colume name are 0,1,2\n",
        "df2 = pd.DataFrame(arr, columns=[\"A\", \"B\", \"C\"])  # self define column name \"list\"\n",
        "print(df1,'\\n')\n",
        "print(df2)\n"
      ],
      "metadata": {
        "id": "HEoB5fXN8fgD"
      },
      "execution_count": null,
      "outputs": []
    },
    {
      "cell_type": "markdown",
      "source": [
        "# Numpy"
      ],
      "metadata": {
        "id": "MnLVbTxayPwM"
      }
    },
    {
      "cell_type": "code",
      "source": [
        "# Create a simple one-dimensional array\n",
        "a = np.array([1, 2, 3])\n",
        "\n",
        "# Create a two-dimensional array\n",
        "b = np.array([[1, 2, 3], [4, 5, 6]])\n",
        "\n",
        "# Create an array of zeros\n",
        "c = np.zeros(shape=(2, 3)) #(2,3) SHAPE=TUPLE\n",
        "\n",
        "# Create an array of ones\n",
        "d = np.ones((2, 3))\n",
        "\n",
        "# Create an array of random numbers\n",
        "e = np.random.rand(2, 3)\n",
        "\n",
        "# Create identity array\n",
        "f = np.identity(3)\n",
        "\n",
        "# Print the arrays\n",
        "print(\"a =\", a)\n",
        "print(\"b =\", b)\n",
        "print(\"c =\", c)\n",
        "print(\"d =\", d)\n",
        "print(\"e =\", e)\n",
        "print(\"f =\", f)"
      ],
      "metadata": {
        "id": "1J98jw8JySEq"
      },
      "execution_count": null,
      "outputs": []
    },
    {
      "cell_type": "code",
      "source": [
        "c = np.zeros(shape=(2, 3))\n",
        "print(c)"
      ],
      "metadata": {
        "id": "NfjsTl9u2DrM"
      },
      "execution_count": null,
      "outputs": []
    },
    {
      "cell_type": "code",
      "source": [
        "#broadcast\n",
        "# 1D array of shape (1,3)\n",
        "a = np.array([1, 2, 3])\n",
        "\n",
        "# 2D array of shape (2, 3)\n",
        "b = np.array([[1, 1, 1],\n",
        "        [2, 2, 2]])\n",
        "\n",
        "# Broadcasting a to match the shape of b\n",
        "result = a + b\n",
        "print(result)"
      ],
      "metadata": {
        "id": "KEokX-cw2YKi"
      },
      "execution_count": null,
      "outputs": []
    },
    {
      "cell_type": "code",
      "source": [
        "\n",
        "# 2D array of shape (2, 3)\n",
        "a = np.array([[1, 2, 3],\n",
        "        [4, 5, 6]])\n",
        "\n",
        "# 2D array of shape (3, 2)\n",
        "b = np.array([[1, 1],\n",
        "        [2, 2],\n",
        "        [3, 3]])\n",
        "\n",
        "# Attempting to broadcast incompatible shapes\n",
        "try:\n",
        "    result = a + b\n",
        "    print(result)\n",
        "except ValueError as e:\n",
        "    print(\"Broadcasting Error:\", e)"
      ],
      "metadata": {
        "id": "whHT8xkR2sf1"
      },
      "execution_count": null,
      "outputs": []
    },
    {
      "cell_type": "code",
      "source": [
        "# Stake two matrix\n",
        "# Create two arrays\n",
        "a = np.array([1, 2, 3])\n",
        "b = np.array([4, 5, 6])\n",
        "\n",
        "# Horizontally stack the two arrays\n",
        "h_stacked = np.hstack((a, b))\n",
        "print(h_stacked)\n",
        "\n",
        "# Vertically stack the two arrays\n",
        "v_stacked = np.vstack((a, b))\n",
        "print(v_stacked)"
      ],
      "metadata": {
        "id": "HsPQfvbv23HS"
      },
      "execution_count": null,
      "outputs": []
    },
    {
      "cell_type": "code",
      "source": [
        "# Reshape\n",
        "# Create a 1D array of 12 elements\n",
        "a = np.arange(1, 13)  # Generates numbers from 1 to 12\n",
        "print(\"Original array:\")\n",
        "print(a)\n",
        "\n",
        "# Reshape it into a 3x4 matrix\n",
        "b = a.reshape(3,4 )\n",
        "print(\"\\nReshaped array into 3x4 matrix:\")\n",
        "print(b)"
      ],
      "metadata": {
        "id": "DLgm_6tu3A7D"
      },
      "execution_count": null,
      "outputs": []
    },
    {
      "cell_type": "code",
      "source": [
        "# Access the element\n",
        "# Access the first element of the reshaped array\n",
        "print(\"First element of the reshaped array:\")\n",
        "print(b[0, 0])\n",
        "\n",
        "# Slice elements from the second row\n",
        "print(\"Elements from the second row:\")\n",
        "print(b[1, :])\n",
        "\n",
        "# Slice elements from the third column\n",
        "print(\"Elements from the third column:\")\n",
        "print(b[:, 2])"
      ],
      "metadata": {
        "id": "LkHuV8SN3PVk"
      },
      "execution_count": null,
      "outputs": []
    },
    {
      "cell_type": "code",
      "source": [
        "# Matrix Calculation\n",
        "# Create two 2x2 matrices\n",
        "A = np.array([[1, 2],\n",
        "        [3, 4]])\n",
        "B = np.array([[2, 0],\n",
        "        [1, 2]])\n",
        "\n",
        "# Matrix multiplication\n",
        "C = np.dot(A, B)\n",
        "print(\"Matrix Multiplication of A and B:\\n\", C)\n",
        "\n",
        "# Determinant of A\n",
        "det_A = np.linalg.det(A)\n",
        "print(\"Determinant of A:\", det_A)\n",
        "\n",
        "# Eigenvalues of A\n",
        "eigenvalues = np.linalg.eigvals(A)\n",
        "print(\"Eigenvalues of A:\", eigenvalues)"
      ],
      "metadata": {
        "id": "uWPyZVFd3eod"
      },
      "execution_count": null,
      "outputs": []
    },
    {
      "cell_type": "code",
      "source": [
        "# Generate an array of 10 random numbers\n",
        "data = np.random.randn(10)\n",
        "print(\"Data:\", data)\n",
        "\n",
        "# Mean\n",
        "mean_data = np.mean(data)\n",
        "print(\"Mean:\", mean_data)\n",
        "\n",
        "# Median\n",
        "median_data = np.median(data)\n",
        "print(\"Median:\", median_data)\n",
        "\n",
        "# Variance\n",
        "variance_data = np.var(data)\n",
        "print(\"Variance:\", variance_data)\n",
        "\n",
        "# Standard Deviation\n",
        "std_dev_data = np.std(data)\n",
        "print(\"Standard Deviation:\", std_dev_data)"
      ],
      "metadata": {
        "id": "IXjfg9Tc3kF6"
      },
      "execution_count": null,
      "outputs": []
    },
    {
      "cell_type": "code",
      "source": [
        "# Create two arrays\n",
        "x = np.array([1, 2, 3, 4])\n",
        "y = np.array([5, 6, 7, 8])\n",
        "\n",
        "# Element-wise addition\n",
        "z_add = np.add(x, y)\n",
        "print(\"Element-wise addition:\", z_add)\n",
        "\n",
        "# Element-wise multiplication\n",
        "z_mul = np.multiply(x, y)\n",
        "print(\"Element-wise multiplication:\", z_mul)\n",
        "\n",
        "# Element-wise exponentiation\n",
        "z_exp = np.exp(x)\n",
        "print(\"Element-wise exponentiation:\", z_exp)"
      ],
      "metadata": {
        "id": "ElWIyILH3l3P"
      },
      "execution_count": null,
      "outputs": []
    }
  ]
}